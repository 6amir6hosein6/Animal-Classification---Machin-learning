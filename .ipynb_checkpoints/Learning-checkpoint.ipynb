{
 "cells": [
  {
   "cell_type": "markdown",
   "metadata": {},
   "source": [
    "# Learning \n",
    "### At first we gonna read the data from pickle file in put the images data in X and put the lable in y "
   ]
  },
  {
   "cell_type": "code",
   "execution_count": 5,
   "metadata": {
    "colab": {
     "base_uri": "https://localhost:8080/",
     "height": 34
    },
    "colab_type": "code",
    "id": "zJ-PjxHqVSbW",
    "outputId": "6216a024-7bc3-4a33-9e55-491e467fca1c"
   },
   "outputs": [],
   "source": [
    "import tensorflow as tf\n",
    "from tensorflow.keras.models import Sequential\n",
    "from tensorflow.keras.layers import Dense, Dropout, Activation, Flatten, Conv2D, MaxPool2D , BatchNormalization\n",
    "import pickle\n",
    "import numpy as np\n",
    "import matplotlib.pyplot as plt\n",
    "import cv2\n",
    "import datetime\n",
    "from tensorflow import keras\n",
    "\n",
    "%load_ext tensorboard\n",
    "!rm -rf ./logs/ \n",
    "\n",
    "X = pickle.load(open(\"./pickle/X_learn.pickle\", \"rb\"))\n",
    "y = pickle.load(open(\"./pickle/y_learn.pickle\", \"rb\"))\n",
    "print(X.shape)"
   ]
  },
  {
   "cell_type": "markdown",
   "metadata": {},
   "source": [
    "### In this part we gonna normalize the data to have the best result"
   ]
  },
  {
   "cell_type": "code",
   "execution_count": null,
   "metadata": {
    "colab": {},
    "colab_type": "code",
    "id": "AbwupAHz6FPH"
   },
   "outputs": [],
   "source": [
    "X = tf.keras.utils.normalize(X, axis=1)"
   ]
  },
  {
   "cell_type": "markdown",
   "metadata": {},
   "source": [
    "### Now it is time to making CNN model for our learning "
   ]
  },
  {
   "cell_type": "code",
   "execution_count": null,
   "metadata": {
    "colab": {
     "base_uri": "https://localhost:8080/",
     "height": 578
    },
    "colab_type": "code",
    "id": "VW_YUsT-XOVH",
    "outputId": "e175496a-d331-4e51-982c-a5636e3e2d39"
   },
   "outputs": [
    {
     "name": "stdout",
     "output_type": "stream",
     "text": [
      "Model: \"sequential\"\n",
      "_________________________________________________________________\n",
      "Layer (type)                 Output Shape              Param #   \n",
      "=================================================================\n",
      "conv2d (Conv2D)              (None, 48, 48, 256)       7168      \n",
      "_________________________________________________________________\n",
      "max_pooling2d (MaxPooling2D) (None, 24, 24, 256)       0         \n",
      "_________________________________________________________________\n",
      "conv2d_1 (Conv2D)            (None, 22, 22, 256)       590080    \n",
      "_________________________________________________________________\n",
      "max_pooling2d_1 (MaxPooling2 (None, 11, 11, 256)       0         \n",
      "_________________________________________________________________\n",
      "conv2d_2 (Conv2D)            (None, 9, 9, 512)         1180160   \n",
      "_________________________________________________________________\n",
      "max_pooling2d_2 (MaxPooling2 (None, 4, 4, 512)         0         \n",
      "_________________________________________________________________\n",
      "conv2d_3 (Conv2D)            (None, 2, 2, 512)         2359808   \n",
      "_________________________________________________________________\n",
      "flatten (Flatten)            (None, 2048)              0         \n",
      "_________________________________________________________________\n",
      "dropout (Dropout)            (None, 2048)              0         \n",
      "_________________________________________________________________\n",
      "dense (Dense)                (None, 256)               524544    \n",
      "_________________________________________________________________\n",
      "dropout_1 (Dropout)          (None, 256)               0         \n",
      "_________________________________________________________________\n",
      "dense_1 (Dense)              (None, 10)                2570      \n",
      "=================================================================\n",
      "Total params: 4,664,330\n",
      "Trainable params: 4,664,330\n",
      "Non-trainable params: 0\n",
      "_________________________________________________________________\n",
      "None\n"
     ]
    }
   ],
   "source": [
    "model = Sequential()\n",
    "\n",
    "model.add(Conv2D(256, (3, 3),activation=\"relu\", input_shape=X.shape[1:],strides=(1, 1), padding='valid'))\n",
    "model.add(MaxPool2D(pool_size=(2, 2)))\n",
    "\n",
    "model.add(Conv2D(256, (3, 3),activation=\"relu\"))\n",
    "model.add(MaxPool2D(pool_size=(2, 2)))\n",
    "\n",
    "model.add(Conv2D(512, (3, 3),activation=\"relu\"))\n",
    "model.add(MaxPool2D(pool_size=(2, 2)))\n",
    "\n",
    "\n",
    "model.add(Flatten())\n",
    "model.add(Dropout(0.5))\n",
    "model.add(Dense(256, activation=tf.nn.relu))\n",
    "model.add(Dropout(0.25))\n",
    "\n",
    "model.add(Dense(10, activation=tf.nn.softmax))\n",
    "\n",
    "print(model.summary())"
   ]
  },
  {
   "cell_type": "markdown",
   "metadata": {},
   "source": [
    "### This class is used for CallBack of model in order to stop the model learning when the model reach to a good accuricy (70% in here)"
   ]
  },
  {
   "cell_type": "code",
   "execution_count": null,
   "metadata": {},
   "outputs": [],
   "source": [
    "class CustomCallback(keras.callbacks.Callback):\n",
    "    def on_epoch_end(self, epoch, logs=None):\n",
    "        keys = list(logs.keys())\n",
    "        acc = logs[\"val_accuracy\"]\n",
    "        if acc>0.7:\n",
    "          self.model.stop_training = True"
   ]
  },
  {
   "cell_type": "markdown",
   "metadata": {},
   "source": [
    "### In this part we gonna start epoching and then validating until getting to a good result (in here 70% of accuricy)"
   ]
  },
  {
   "cell_type": "code",
   "execution_count": 6,
   "metadata": {
    "colab": {
     "base_uri": "https://localhost:8080/",
     "height": 1000
    },
    "colab_type": "code",
    "id": "kvbJTuuMXQey",
    "outputId": "7fdc3611-167d-4fbb-cb88-5e246afe66f1"
   },
   "outputs": [],
   "source": [
    "model.compile(loss=\"sparse_categorical_crossentropy\", optimizer=\"adam\", metrics=[\"accuracy\"])\n",
    "\n",
    "log_dir = \"logs/fit/\" + datetime.datetime.now().strftime(\"%Y%m%d-%H%M%S\")\n",
    "tensorboard_callback = tf.keras.callbacks.TensorBoard(log_dir=log_dir, histogram_freq=1)\n",
    "\n",
    "X_train = pickle.load(open(\"./pickle/X_train.pickle\", \"rb\"))\n",
    "y_train = pickle.load(open(\"./pickle/y_train.pickle\", \"rb\"))\n",
    "\n",
    "X_train = np.array(X_train).reshape(-1, 50, 50, 3)\n",
    "X_train = tf.keras.utils.normalize(X_train, axis=1)\n",
    "\n",
    "y_train = np.array(y_train)\n",
    "\n",
    "model.fit(x = X, y = y,epochs=50,validation_data=(X_train, y_train),callbacks=[CustomCallback(),tensorboard_callback])\n"
   ]
  },
  {
   "cell_type": "markdown",
   "metadata": {},
   "source": [
    "### Evaluation of traning data and showing the summery in \"TensorBoard\""
   ]
  },
  {
   "cell_type": "code",
   "execution_count": null,
   "metadata": {
    "colab": {},
    "colab_type": "code",
    "id": "Rp0hUsSomEIF"
   },
   "outputs": [],
   "source": [
    "val_loss, val_acc = model.evaluate(X_train, y_train)  # evaluate the out of sample data with model\n",
    "%tensorboard --logdir logs/fit"
   ]
  },
  {
   "cell_type": "markdown",
   "metadata": {},
   "source": [
    "### In here a number of example of detected image gonna be shown and a plot of number of Correct and Wrong answer"
   ]
  },
  {
   "cell_type": "code",
   "execution_count": null,
   "metadata": {
    "colab": {},
    "colab_type": "code",
    "id": "9DdyHsPpaYck"
   },
   "outputs": [],
   "source": [
    "animals = [\"horse\", \"dog\", \"elephant\", \"butterfly\", \"rooster\", \"cat\", \"cow\", \"tarantula\", \"squirrel\", \"sheep\"]\n",
    "\n",
    "predictions = model.predict(X_train)\n",
    "X2 = pickle.load(open(\"./pickle/X_train.pickle\", \"rb\"))\n",
    "\n",
    "result = []\n",
    "t = 0\n",
    "f = 0\n",
    "\n",
    "for i in range(len(predictions)):\n",
    "    if np.argmax(predictions[i]) == y_train[i]:\n",
    "        t = t + 1\n",
    "    else:\n",
    "        f = f + 1\n",
    "    result.append([np.argmax(predictions[i]), y_train[i]])\n",
    "\n",
    "plt.figure(figsize=(10,10))\n",
    "\n",
    "\n",
    "\n",
    "for i in range(25):   \n",
    "  num = i * 100 + 1\n",
    "# print(\"my pridication is :   \" + animals[np.argmax(predictions[num])])\n",
    "# print(\"it is :   \" + animals[y2[num]])\n",
    "  plt.subplot(6,5,i+1)\n",
    "  plt.xticks([])\n",
    "  plt.yticks([])\n",
    "  plt.grid('off')\n",
    "  img = cv2.cvtColor(X2[num], cv2.COLOR_BGR2RGB)\n",
    "  plt.imshow(img)\n",
    "  plt.xlabel(animals[np.argmax(predictions[num])])\n",
    "\n",
    "x = ['Correct', 'Wrong']\n",
    "popularity = [t, f]\n",
    "x_pos = [i for i, _ in enumerate(x)]\n",
    "\n",
    "fig, ax = plt.subplots()\n",
    "rects1 = ax.bar(x_pos, popularity, color='b')\n",
    "plt.ylabel(\"The answers\")\n",
    "plt.title(\"\\n\\n\" + \"Neural Network with for detecting animals\\n\")\n",
    "plt.xticks(x_pos, x)\n",
    "# Turn on the grid\n",
    "plt.minorticks_on()\n",
    "plt.grid(which='major', linestyle='-', linewidth='0.5', color='red')\n",
    "# Customize the minor grid\n",
    "plt.grid(which='minor', linestyle=':', linewidth='0.5', color='black')\n",
    "\n",
    "\n",
    "def autolabel(rects):\n",
    "    \"\"\"\n",
    "    Attach a text label above each bar displaying its height\n",
    "    \"\"\"\n",
    "    for rect in rects:\n",
    "        height = rect.get_height()\n",
    "        ax.text(rect.get_x() + rect.get_width() / 2., 1.05 * height,\n",
    "                '%f' % float(height),\n",
    "                ha='center', va='bottom')\n",
    "\n",
    "\n",
    "autolabel(rects1)\n",
    "plt.show()"
   ]
  },
  {
   "cell_type": "markdown",
   "metadata": {},
   "source": [
    "### Saving Model"
   ]
  },
  {
   "cell_type": "code",
   "execution_count": null,
   "metadata": {
    "colab": {},
    "colab_type": "code",
    "id": "JzmQhvpOabu6"
   },
   "outputs": [],
   "source": [
    "model.save('./animal_detector')"
   ]
  }
 ],
 "metadata": {
  "accelerator": "GPU",
  "colab": {
   "collapsed_sections": [],
   "name": "Learning5.ipynb",
   "provenance": []
  },
  "kernelspec": {
   "display_name": "Python 3",
   "language": "python",
   "name": "python3"
  },
  "language_info": {
   "codemirror_mode": {
    "name": "ipython",
    "version": 3
   },
   "file_extension": ".py",
   "mimetype": "text/x-python",
   "name": "python",
   "nbconvert_exporter": "python",
   "pygments_lexer": "ipython3",
   "version": "3.6.8"
  }
 },
 "nbformat": 4,
 "nbformat_minor": 1
}
