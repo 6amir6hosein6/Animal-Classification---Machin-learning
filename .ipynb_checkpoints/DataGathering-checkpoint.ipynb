{
 "cells": [
  {
   "cell_type": "markdown",
   "metadata": {},
   "source": [
    "# Data Gathering \n",
    "## In this part we gonna get the data and prepare it for learning and testing\n"
   ]
  },
  {
   "cell_type": "code",
   "execution_count": 16,
   "metadata": {
    "colab": {},
    "colab_type": "code",
    "id": "gxFvaTf_n6AJ"
   },
   "outputs": [],
   "source": [
    "import cv2\n",
    "import numpy as np\n",
    "import os\n",
    "from sklearn.model_selection import train_test_split\n",
    "import pickle"
   ]
  },
  {
   "cell_type": "markdown",
   "metadata": {},
   "source": [
    "### in this part we gonna use given the data set wich gonna be in directory of project\n",
    "(I translate the the name of animals to ENG)\n",
    "\n",
    "### Array of animals is the name of folder of each animals image"
   ]
  },
  {
   "cell_type": "code",
   "execution_count": 17,
   "metadata": {
    "colab": {},
    "colab_type": "code",
    "id": "IH_LC3EIn6Aa"
   },
   "outputs": [],
   "source": [
    "root = \"./raw-img\"\n",
    "animals = [\"horse\", \"dog\", \"elephant\", \"butterfly\", \"rooster\", \"cat\", \"cow\", \"tarantula\", \"squirrel\", \"sheep\"]"
   ]
  },
  {
   "cell_type": "code",
   "execution_count": 18,
   "metadata": {
    "colab": {},
    "colab_type": "code",
    "id": "GPDFLQ-in6Ap"
   },
   "outputs": [],
   "source": [
    "training_data = []\n",
    "\n",
    "X_learn = []\n",
    "X_train = []\n",
    "X_test = []\n",
    "y_learn = []\n",
    "y_train = []\n",
    "y_test = []\n",
    "IMG_SIZE = 50"
   ]
  },
  {
   "cell_type": "markdown",
   "metadata": {},
   "source": [
    "### This function gonna get the image in colored from given directories and split to 80% , 10% , 10% as learning data , trainging data and testing data and after resize all of them to 50 * 50 using OpenCV they will store to an array "
   ]
  },
  {
   "cell_type": "code",
   "execution_count": 19,
   "metadata": {
    "colab": {},
    "colab_type": "code",
    "id": "BOEbKaWun6A0"
   },
   "outputs": [],
   "source": [
    "def create_training_data():\n",
    "    for animal in animals:\n",
    "        m = []\n",
    "        n = []\n",
    "        path = os.path.join(root, animal)\n",
    "        class_num = animals.index(animal)\n",
    "        \n",
    "        i = 0\n",
    "        for img in os.listdir(path):\n",
    "            print(str(class_num) + \"  :  \"+ str(i))\n",
    "            i = i + 1\n",
    "            img_array = cv2.imread(os.path.join(path, img))\n",
    "\n",
    "            new_array = cv2.resize(img_array, (IMG_SIZE, IMG_SIZE))\n",
    "            m.append(new_array)\n",
    "            n.append(class_num)\n",
    "\n",
    "        m_learn, m_train_test, n_learn, n_train_test = train_test_split(m, n, train_size=0.8)\n",
    "\n",
    "        m_train, m_test, n_train, n_test = train_test_split(m_train_test, n_train_test, train_size=0.5)\n",
    "\n",
    "        global X_learn, y_learn, X_train, y_train, X_test, y_test\n",
    "        X_learn = X_learn + m_learn\n",
    "        y_learn = y_learn + n_learn\n",
    "\n",
    "        X_train = X_train + m_train\n",
    "        y_train = y_train + n_train\n",
    "\n",
    "        X_test = X_test + m_test\n",
    "        y_test = y_test + n_test"
   ]
  },
  {
   "cell_type": "markdown",
   "metadata": {},
   "source": [
    "### This part will save the given data in .pickle file to using them in Learning , Validating and Testing later"
   ]
  },
  {
   "cell_type": "code",
   "execution_count": 21,
   "metadata": {
    "colab": {
     "base_uri": "https://localhost:8080/",
     "height": 1000
    },
    "colab_type": "code",
    "id": "AeD5v9Esn6A9",
    "outputId": "c686723e-543b-4707-896b-e80dd9fea82b"
   },
   "outputs": [
    {
     "name": "stdout",
     "output_type": "stream",
     "text": [
      "0  :  0\n",
      "0  :  1\n",
      "0  :  2\n",
      "0  :  3\n",
      "0  :  4\n",
      "0  :  5\n",
      "0  :  6\n",
      "0  :  7\n",
      "0  :  8\n",
      "0  :  9\n",
      "0  :  10\n",
      "1  :  0\n",
      "1  :  1\n",
      "1  :  2\n",
      "1  :  3\n",
      "1  :  4\n",
      "1  :  5\n",
      "1  :  6\n",
      "1  :  7\n",
      "1  :  8\n",
      "1  :  9\n",
      "1  :  10\n",
      "2  :  0\n",
      "2  :  1\n",
      "2  :  2\n",
      "2  :  3\n",
      "2  :  4\n",
      "2  :  5\n",
      "2  :  6\n",
      "2  :  7\n",
      "2  :  8\n",
      "2  :  9\n",
      "2  :  10\n",
      "3  :  0\n",
      "3  :  1\n",
      "3  :  2\n",
      "3  :  3\n",
      "3  :  4\n",
      "3  :  5\n",
      "3  :  6\n",
      "3  :  7\n",
      "3  :  8\n",
      "3  :  9\n",
      "4  :  0\n",
      "4  :  1\n",
      "4  :  2\n",
      "4  :  3\n",
      "4  :  4\n",
      "4  :  5\n",
      "4  :  6\n",
      "4  :  7\n",
      "4  :  8\n",
      "4  :  9\n",
      "5  :  0\n",
      "5  :  1\n",
      "5  :  2\n",
      "5  :  3\n",
      "5  :  4\n",
      "5  :  5\n",
      "5  :  6\n",
      "5  :  7\n",
      "5  :  8\n",
      "5  :  9\n",
      "6  :  0\n",
      "6  :  1\n",
      "6  :  2\n",
      "6  :  3\n",
      "6  :  4\n",
      "6  :  5\n",
      "6  :  6\n",
      "6  :  7\n",
      "6  :  8\n",
      "6  :  9\n",
      "6  :  10\n",
      "7  :  0\n",
      "7  :  1\n",
      "7  :  2\n",
      "7  :  3\n",
      "7  :  4\n",
      "7  :  5\n",
      "7  :  6\n",
      "7  :  7\n",
      "7  :  8\n",
      "7  :  9\n",
      "7  :  10\n",
      "7  :  11\n",
      "7  :  12\n",
      "8  :  0\n",
      "8  :  1\n",
      "8  :  2\n",
      "8  :  3\n",
      "8  :  4\n",
      "8  :  5\n",
      "8  :  6\n",
      "8  :  7\n",
      "8  :  8\n",
      "8  :  9\n",
      "8  :  10\n",
      "9  :  0\n",
      "9  :  1\n",
      "9  :  2\n",
      "9  :  3\n",
      "9  :  4\n",
      "9  :  5\n",
      "9  :  6\n",
      "9  :  7\n",
      "9  :  8\n",
      "9  :  9\n",
      "9  :  10\n",
      "(50, 50, 3)\n",
      "number of animals :  10\n",
      "number of pictures to learn :  82\n",
      "number of pictures to train :  10\n",
      "number of pictures to test :  17\n"
     ]
    }
   ],
   "source": [
    "\n",
    "create_training_data()\n",
    "\n",
    "print(X_learn[0].shape)\n",
    "X_learn = np.array(X_learn).reshape(-1, IMG_SIZE, IMG_SIZE, 3)\n",
    "y_learn = np.array(y_learn)\n",
    "pickle_out = open(\"pickle/X_learn.pickle\", \"wb\")\n",
    "pickle.dump(X_learn, pickle_out)\n",
    "pickle_out.close()\n",
    "\n",
    "pickle_out = open(\"pickle/y_learn.pickle\", \"wb\")\n",
    "pickle.dump(y_learn, pickle_out)\n",
    "pickle_out.close()\n",
    "\n",
    "pickle_out = open(\"pickle/X_train.pickle\", \"wb\")\n",
    "pickle.dump(X_train, pickle_out)\n",
    "pickle_out.close()\n",
    "\n",
    "pickle_out = open(\"pickle/y_train.pickle\", \"wb\")\n",
    "pickle.dump(y_train, pickle_out)\n",
    "pickle_out.close()\n",
    "\n",
    "pickle_out = open(\"pickle/X_test.pickle\", \"wb\")\n",
    "pickle.dump(X_test, pickle_out)\n",
    "pickle_out.close()\n",
    "\n",
    "pickle_out = open(\"pickle/y_test.pickle\", \"wb\")\n",
    "pickle.dump(y_test, pickle_out)\n",
    "pickle_out.close()\n",
    "\n",
    "print(\"number of animals :  \" + str(len(animals)))\n",
    "print(\"number of pictures to learn :  \" + str(len(X_learn)))\n",
    "print(\"number of pictures to train :  \" + str(len(X_train)))\n",
    "print(\"number of pictures to test :  \" + str(len(X_test)))"
   ]
  },
  {
   "cell_type": "code",
   "execution_count": null,
   "metadata": {},
   "outputs": [],
   "source": []
  }
 ],
 "metadata": {
  "accelerator": "TPU",
  "colab": {
   "collapsed_sections": [],
   "name": "DataGathering.ipynb",
   "provenance": []
  },
  "kernelspec": {
   "display_name": "Python 3",
   "language": "python",
   "name": "python3"
  },
  "language_info": {
   "codemirror_mode": {
    "name": "ipython",
    "version": 3
   },
   "file_extension": ".py",
   "mimetype": "text/x-python",
   "name": "python",
   "nbconvert_exporter": "python",
   "pygments_lexer": "ipython3",
   "version": "3.6.8"
  }
 },
 "nbformat": 4,
 "nbformat_minor": 1
}
